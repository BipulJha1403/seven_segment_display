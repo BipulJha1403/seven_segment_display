{
 "cells": [
  {
   "cell_type": "markdown",
   "metadata": {},
   "source": [
    "### Seven Segment Display\n",
    "\n",
    "Alice got a number written in seven segment format where each segment was creatted used a matchstick.\n",
    "\n",
    "Example: If Alice gets a number 123 so basically Alice used 12 matchsticks for this number.\n",
    "\n",
    "Alice is wondering what is the numerically largest value that she can generate by using at most the matchsticks that she currently possess.Help Alice out by telling her that number.\n",
    "\n",
    " \n",
    "\n",
    "**Input Format:**\n",
    "\n",
    "First line contains T (test cases).\n",
    "\n",
    "Next T lines contain a Number N.\n",
    "\n",
    "**Output Format:**\n",
    "\n",
    "Print the largest possible number numerically that can be generated using at max that many number of matchsticks which was used to generate N."
   ]
  },
  {
   "cell_type": "code",
   "execution_count": 2,
   "metadata": {},
   "outputs": [
    {
     "name": "stdout",
     "output_type": "stream",
     "text": [
      "2\n",
      "123\n",
      "1234\n",
      "111111\n",
      "11111111\n"
     ]
    }
   ],
   "source": [
    "def countmatch(n):\n",
    "    matches = 0\n",
    "    if n == 0:\n",
    "        return 6\n",
    "    else:\n",
    "        while n!=0:\n",
    "            digi = n%10\n",
    "        \n",
    "            if digi == 1:\n",
    "                matches = matches+2\n",
    "            elif digi == 2 or digi == 3 or digi == 5:\n",
    "                matches = matches+5\n",
    "            elif digi == 4:\n",
    "                matches = matches+4\n",
    "            elif digi == 0 or digi == 9 or digi == 6:\n",
    "                matches == matches+6\n",
    "            elif digi == 7:\n",
    "                matches = matches+3\n",
    "            else:\n",
    "                matches = matches+7\n",
    "        \n",
    "            n = n//10\n",
    "    \n",
    "        return matches\n",
    "\n",
    "\n",
    "T = int(input())\n",
    "arr = []\n",
    "while T>0:\n",
    "    N = int(input())\n",
    "    cnt = countmatch(N)\n",
    "    arr.append(cnt)\n",
    "    T = T-1\n",
    "for cnt in arr:\n",
    "    if cnt%2 == 0:\n",
    "        for i in range(int(cnt/2)):\n",
    "            print(1, end='')\n",
    "    else:\n",
    "        print(7, end='')\n",
    "        for i in range(int((cnt-3)/2)):\n",
    "            print(1, end='')\n",
    "    print()"
   ]
  },
  {
   "cell_type": "code",
   "execution_count": null,
   "metadata": {},
   "outputs": [],
   "source": []
  }
 ],
 "metadata": {
  "kernelspec": {
   "display_name": "Python 3",
   "language": "python",
   "name": "python3"
  },
  "language_info": {
   "codemirror_mode": {
    "name": "ipython",
    "version": 3
   },
   "file_extension": ".py",
   "mimetype": "text/x-python",
   "name": "python",
   "nbconvert_exporter": "python",
   "pygments_lexer": "ipython3",
   "version": "3.7.3"
  }
 },
 "nbformat": 4,
 "nbformat_minor": 2
}
